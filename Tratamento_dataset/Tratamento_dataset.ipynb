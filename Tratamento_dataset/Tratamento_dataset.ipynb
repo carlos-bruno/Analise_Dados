{
 "cells": [
  {
   "cell_type": "code",
   "execution_count": null,
   "metadata": {},
   "outputs": [],
   "source": [
    "import pandas as pd\n",
    "import numpy as np\n",
    "from sklearn import datasets\n",
    "\n",
    "iris = datasets.load_iris()\n",
    "\n",
    "iris\n"
   ]
  },
  {
   "cell_type": "markdown",
   "metadata": {},
   "source": [
    "Transformação array em um dataframe"
   ]
  },
  {
   "cell_type": "code",
   "execution_count": null,
   "metadata": {},
   "outputs": [],
   "source": [
    "# O .data é utilizado para vermos o conteudo do datasets, porém o mesmo vem em forma de array\n",
    "#Utilizamos o pandas para transformação em um dataframe\n",
    "df_iris = pd.DataFrame(iris.data)\n",
    "df_iris"
   ]
  },
  {
   "cell_type": "markdown",
   "metadata": {},
   "source": [
    "Alteração no nome das colunas"
   ]
  },
  {
   "cell_type": "code",
   "execution_count": 4,
   "metadata": {},
   "outputs": [],
   "source": [
    "#Utilizamos o metodo rename para renomeação de colunas\n",
    "#Como o mesmo usa referencia de um dicionario para alteração foi utilizado o metodo zip para junção de duas listas\n",
    "#A primeira lista com as antigas colunas, segunda lista com os nomes corretos do dataframe, fornecido pelo dataset\n",
    "df_iris.rename(columns=dict(zip(df_iris.columns,iris.feature_names)), inplace = True)\n"
   ]
  },
  {
   "cell_type": "markdown",
   "metadata": {},
   "source": [
    "Adicionando a classificação"
   ]
  },
  {
   "cell_type": "code",
   "execution_count": null,
   "metadata": {},
   "outputs": [],
   "source": [
    "#Criando uma lista com os valores a serem adicionados na coluna classificação\n",
    "#Logo após criação de um novo DataFrame com a nova coluna desejada\n",
    "lista = list(iris.target)\n",
    "nova_coluna = pd.DataFrame(lista,columns=['Class'])\n",
    "nova_coluna"
   ]
  },
  {
   "cell_type": "code",
   "execution_count": null,
   "metadata": {},
   "outputs": [],
   "source": [
    "#Fazendo a junção das duas colunas\n",
    "df_iris = pd.concat([df_iris,nova_coluna], axis=1)\n",
    "df_iris"
   ]
  },
  {
   "cell_type": "code",
   "execution_count": 7,
   "metadata": {},
   "outputs": [],
   "source": [
    "#Criando uma lista com os valores a serem alterados no dataframe\n",
    "#Primeira lista referencia os valores a serem alterados, Segundo lista os novos valores\n",
    "valores_unicos = list(df_iris['Class'].unique())\n",
    "novos_valores = list(iris.target_names)\n"
   ]
  },
  {
   "cell_type": "code",
   "execution_count": 8,
   "metadata": {},
   "outputs": [],
   "source": [
    "#Utilizando o metodo replace para alteração dos valores das colunas\n",
    "df_iris['Class'] = df_iris['Class'].replace(valores_unicos, novos_valores)"
   ]
  },
  {
   "cell_type": "markdown",
   "metadata": {},
   "source": [
    "Novo DataFrame Tratado"
   ]
  },
  {
   "cell_type": "code",
   "execution_count": null,
   "metadata": {},
   "outputs": [],
   "source": [
    "df_iris.head(80)"
   ]
  }
 ],
 "metadata": {
  "kernelspec": {
   "display_name": "venv",
   "language": "python",
   "name": "python3"
  },
  "language_info": {
   "codemirror_mode": {
    "name": "ipython",
    "version": 3
   },
   "file_extension": ".py",
   "mimetype": "text/x-python",
   "name": "python",
   "nbconvert_exporter": "python",
   "pygments_lexer": "ipython3",
   "version": "3.11.3"
  },
  "orig_nbformat": 4
 },
 "nbformat": 4,
 "nbformat_minor": 2
}
